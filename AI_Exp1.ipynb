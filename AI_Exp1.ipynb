{
  "nbformat": 4,
  "nbformat_minor": 0,
  "metadata": {
    "colab": {
      "name": "AI Exp1.ipynb",
      "provenance": [],
      "authorship_tag": "ABX9TyMqgH1KuUvop/GfrfjZry2K",
      "include_colab_link": true
    },
    "kernelspec": {
      "name": "python3",
      "display_name": "Python 3"
    },
    "language_info": {
      "name": "python"
    }
  },
  "cells": [
    {
      "cell_type": "markdown",
      "metadata": {
        "id": "view-in-github",
        "colab_type": "text"
      },
      "source": [
        "<a href=\"https://colab.research.google.com/github/JashShahh/ProjectPresentation/blob/main/AI_Exp1.ipynb\" target=\"_parent\"><img src=\"https://colab.research.google.com/assets/colab-badge.svg\" alt=\"Open In Colab\"/></a>"
      ]
    },
    {
      "cell_type": "code",
      "metadata": {
        "colab": {
          "base_uri": "https://localhost:8080/"
        },
        "id": "8u4TpJrjEJJv",
        "outputId": "e962570f-a6f0-4f23-dea3-c3ece7b13bcb"
      },
      "source": [
        "time.sleep(5)\n",
        "print (time.ctime())\n"
      ],
      "execution_count": null,
      "outputs": [
        {
          "output_type": "stream",
          "text": [
            "Thu Jul 22 07:18:56 2021\n"
          ],
          "name": "stdout"
        }
      ]
    }
  ]
}